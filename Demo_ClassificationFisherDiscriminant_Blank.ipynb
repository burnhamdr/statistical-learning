{
 "cells": [
  {
   "cell_type": "markdown",
   "id": "4e71299c",
   "metadata": {},
   "source": [
    "In this notebook, we'll make up some synthetic data, where each data point belongs to one of two classes. We'll use Fisher's linear discriminant to construct a classifier that assigns any new point $\\vec{x}$ to one of the two classes."
   ]
  },
  {
   "cell_type": "code",
   "execution_count": 1,
   "id": "b7de1fec",
   "metadata": {},
   "outputs": [],
   "source": [
    "import numpy as np\n",
    "import matplotlib.pyplot as plt"
   ]
  },
  {
   "cell_type": "code",
   "execution_count": 27,
   "id": "00d8270e",
   "metadata": {},
   "outputs": [
    {
     "data": {
      "text/plain": [
       "Text(0, 0.5, 'x2')"
      ]
     },
     "execution_count": 27,
     "metadata": {},
     "output_type": "execute_result"
    },
    {
     "data": {
      "image/png": "[encoded data removed]",
      "text/plain": [
       "<Figure size 288x288 with 1 Axes>"
      ]
     },
     "metadata": {
      "needs_background": "light"
     },
     "output_type": "display_data"
    }
   ],
   "source": [
    "# Make up some two-dimensional data:\n",
    "nA = 100\n",
    "muA = np.array([1., 0])\n",
    "sigA = np.array([[1,-0.8],[-0.8,1]])\n",
    "xA = np.random.multivariate_normal(muA, sigA, nA)\n",
    "nB = 100\n",
    "muB = np.array([-1., -0.5])\n",
    "sigB = np.array([[1,0.3],[0.3,1]])\n",
    "xB = np.random.multivariate_normal(muB, sigB, nB)\n",
    "\n",
    "# Concatenate the data:\n",
    "X = np.vstack((xA, xB))  # X should be n_samples by n_variables, where n_samples=nA+nB\n",
    "y = np.append(np.zeros(nA), np.ones(nB))  # y should have length n_samples\n",
    "\n",
    "# Plot the data:\n",
    "plt.figure(figsize=(4,4))\n",
    "plt.plot(xA[:,0], xA[:,1], '.')\n",
    "plt.plot(xB[:,0], xB[:,1], '.')\n",
    "plt.xlabel('x1')\n",
    "plt.ylabel('x2')"
   ]
  },
  {
   "cell_type": "markdown",
   "id": "cd1f8418",
   "metadata": {},
   "source": [
    "## Fisher's linear discriminant"
   ]
  },
  {
   "cell_type": "markdown",
   "id": "55521e3a",
   "metadata": {},
   "source": [
    "In class we showed that the normal vector to the classifying hyperplane is given by\n",
    "$$\n",
    "\\vec{w}_F \\propto \\mathbf{S}_W^{-1} (\\vec{m}_2 - \\vec{m}_1),\n",
    "$$\n",
    "where the \"within-class\" covariance is given by\n",
    "$$\n",
    "\\mathbf{S}_W = \\frac{1}{N_1}\\sum_{n \\in \\mathcal{C}_1} (\\vec{x}_n - \\vec{m}_1) (\\vec{x}_n - \\vec{m}_1)^\\top\n",
    "+ \\frac{1}{N_2} \\sum_{n \\in \\mathcal{C}_2} (\\vec{x}_n - \\vec{m}_2) (\\vec{x}_n - \\vec{m}_2)^\\top,\n",
    "$$\n",
    "and $\\vec{m}_1$ and $\\vec{m}_2$ are the means of the data points from class 1 and class 2, respectively.\n",
    "\n",
    "The distance from the origin to the closest point on the hyperplane is given by \n",
    "$$\n",
    "y_0 = \\frac{-b + \\sqrt{b^2 - 4ac}}{2a},\n",
    "$$\n",
    "where \n",
    "$$\n",
    "\\begin{align}\n",
    "a &= \\frac{1}{s_1^2} - \\frac{1}{s_2^2} \\\\\n",
    "b &= -2\\left( \\frac{m_1}{s_1^2} - \\frac{m_2}{s_2^2} \\right) \\\\\n",
    "c &= \\left( \\frac{m_1}{s_1} \\right)^2 - \\left( \\frac{m_2}{s_2} \\right)^2 + 2 \\ln \\left(\\frac{s_1}{s_2} \\right).\n",
    "\\end{align}\n",
    "$$\n",
    "\n",
    "**Exercise**\n",
    "\n",
    "Using the above expressions, calculate and plot the Fisher linear discriminant along with the synthetic data generated above. Everything should be done from scratch using only basic Numpy functions.\n"
   ]
  },
  {
   "cell_type": "code",
   "execution_count": 28,
   "id": "f3e99e29",
   "metadata": {},
   "outputs": [],
   "source": [
    "## Solution ##\n",
    "\n",
    "# Create a 2D vector wF defining the direction of the Fisher linear discriminant:\n",
    "m1 = np.mean(xA, axis=0)\n",
    "m2 = np.mean(xB, axis=0)\n",
    "sw = np.cov(xA.T) + np.cov(xB.T)\n",
    "wf = np.linalg.inv(sw)@(m2 - m1)\n",
    "\n",
    "# Determine the location of the discriminant along this vector:\n",
    "mm1 = wf @ m1\n",
    "mm2 = wf @ m2\n",
    "s1 = np.sqrt(wf @ np.cov(xA.T) @ wf)\n",
    "s2 = np.sqrt(wf @ np.cov(xB.T) @ wf)\n",
    "a = 1/s1**2 - 1/s2**2\n",
    "b = -2*(mm1/s1**2 - mm2/s2**2)\n",
    "c = (mm1/s1)**2 - (mm2/s2)**2 + 2*np.log(s1/s2)\n",
    "y0 = (-b + (b**2 - 4*a*c)**0.5)/(2*a)\n",
    "\n",
    "# The point on the discriminant closest to the origin:\n",
    "\n",
    "\n",
    "# A vector orthogonal to wF:\n",
    "\n",
    "\n",
    "# Two points along the discriminant:\n",
    "\n",
    "\n",
    "# Plot the data with the discriminant:\n",
    "\n"
   ]
  },
  {
   "cell_type": "markdown",
   "id": "fd531d11",
   "metadata": {},
   "source": [
    "**Exercise**: \n",
    "\n",
    "Plot a histogram showing the data projected along the direction perpendicular to the discriminant, together with the location of the discriminant itself. \n"
   ]
  },
  {
   "cell_type": "code",
   "execution_count": 29,
   "id": "441d4658",
   "metadata": {},
   "outputs": [
    {
     "data": {
      "text/plain": [
       "-0.052033062863927323"
      ]
     },
     "execution_count": 29,
     "metadata": {},
     "output_type": "execute_result"
    }
   ],
   "source": [
    "y0"
   ]
  },
  {
   "cell_type": "code",
   "execution_count": 2,
   "id": "49c4ecc1",
   "metadata": {},
   "outputs": [],
   "source": [
    "## Solution ##\n",
    "\n",
    "# Plot a histogram of the data projected along wF:\n"
   ]
  },
  {
   "cell_type": "markdown",
   "id": "92ad07a2",
   "metadata": {},
   "source": [
    "**Exercise**: \n",
    "\n",
    "Try modifying the synthetic data so that ~90% of the data belongs to one class (showing plots of this is optional) and comment on whether and why the classifier succeeds or fails for this type of unbalanced dataset."
   ]
  },
  {
   "cell_type": "markdown",
   "id": "ebcd78dd",
   "metadata": {},
   "source": [
    "**Solution**: \n"
   ]
  },
  {
   "cell_type": "code",
   "execution_count": null,
   "id": "c36fb9a4",
   "metadata": {},
   "outputs": [],
   "source": []
  }
 ],
 "metadata": {
  "kernelspec": {
   "display_name": "Python 3 (ipykernel)",
   "language": "python",
   "name": "python3"
  },
  "language_info": {
   "codemirror_mode": {
    "name": "ipython",
    "version": 3
   },
   "file_extension": ".py",
   "mimetype": "text/x-python",
   "name": "python",
   "nbconvert_exporter": "python",
   "pygments_lexer": "ipython3",
   "version": "3.8.5"
  }
 },
 "nbformat": 4,
 "nbformat_minor": 5
}
