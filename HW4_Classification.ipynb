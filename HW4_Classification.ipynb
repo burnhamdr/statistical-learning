{
 "cells": [
  {
   "cell_type": "markdown",
   "id": "4eeb8c94",
   "metadata": {},
   "source": [
    "# Mathematical exercises\n",
    "\n",
    "**Exercise 1** (3 points): Problem 4.10 from the PRML textbook.<br />\n",
    "<br />\n",
    "Begin with the likelihood function given by:\n",
    "$$\n",
    "p\\left(\\{\\phi_{n},\\mathbf{t}_{n}\\}|\\{\\pi_{n}\\}\\right) = \\prod_{n=1}^{N}\\prod_{k=1}^{K}\\{p\\left(\\phi_{n}|\\mathbf{C}_{k}\\right)\\pi_{k}\\}^{t_{nk}} = \\prod_{n=1}^{N}\\prod_{k=1}^{K}\\{\\mathcal{N}\\left(\\phi_{n}|\\mathbf{\\mu}_{k}, \\mathbf{\\Sigma}\\right)\\pi_{k}\\}^{t_{nk}}\n",
    "$$\n",
    "and taking the logarithm, we obtain\n",
    "$$\n",
    "ln[p\\left(\\{\\phi_{n},\\mathbf{t}_{n}\\}|\\{\\pi_{n}\\}\\right)] = \\sum_{n=1}^{N}\\sum_{k=1}^{K}t_{nk}\\{ln[p\\left(\\phi_{n}|\\mathbf{C}_{k}\\right)] + ln[\\pi_{k}]\\} = \\sum_{n=1}^{N}\\sum_{k=1}^{K}t_{nk}\\{ln[\\mathcal{N}\\left(\\phi_{n}|\\mathbf{\\mu}_{k}, \\mathbf{\\Sigma}\\right)] + ln[\\pi_{k}]\\} \\propto \\sum_{n=1}^{N}\\sum_{k=1}^{K}t_{nk}\\{ln[\\mathcal{N}\\left(\\phi_{n}|\\mathbf{\\mu}_{k}, \\mathbf{\\Sigma}\\right)]\\}\n",
    "$$\n",
    "Plugging in $\\mathcal{N}\\left(\\mathbf{\\phi}|\\mathbf{\\mu}_{k}, \\mathbf{\\Sigma}\\right) = \\frac{\\exp\\left(-\\frac{1}{2}\\left(\\mathbf{\\phi} - \\mathbf{\\mu}_{k}\\right)^{\\intercal}\\mathbf{\\Sigma}^{-1}\\left(\\mathbf{\\phi} - \\mathbf{\\mu}_{k}\\right)\\right)}{\\sqrt{\\left(2\\pi\\right)^{k}|\\mathbf{\\Sigma}|}}$\n",
    "$$\n",
    "ln[p\\left(\\{\\phi_{n},\\mathbf{t}_{n}\\}|\\{\\pi_{n}\\}\\right)] = \\sum_{n=1}^{N}\\sum_{k=1}^{K}t_{nk}\\{-\\frac{1}{2}ln\\left(|\\mathbf{\\Sigma}|\\right) -\\frac{1}{2}\\left(\\mathbf{\\phi}_{n} - \\mathbf{\\mu}_{k}\\right)^{\\intercal}\\mathbf{\\Sigma}^{-1}\\left(\\mathbf{\\phi}_{n} - \\mathbf{\\mu}_{k}\\right)\\}\n",
    "$$\n",
    "To obtain maximum likelihood solution for the mean of the Gaussian distribution for class $\\mathbf{C}_{k}$ take the derivative with respect to $\\mathbf{\\mu_{k}}$:\n",
    "$$\n",
    "\\frac{\\partial ln[p\\left(\\{\\phi_{n},\\mathbf{t}_{n}\\}|\\{\\pi_{n}\\}\\right)]}{\\partial \\mathbf{\\mu_{k}}} = \\frac{\\partial}{\\partial\\mathbf{\\mu_{k}}}\\left(\\sum_{n=1}^{N}\\sum_{k=1}^{K}t_{nk}\\{-\\frac{1}{2}ln\\left(|\\mathbf{\\Sigma}|\\right) -\\frac{1}{2}\\left(\\mathbf{\\phi}_{n} - \\mathbf{\\mu}_{k}\\right)^{\\intercal}\\mathbf{\\Sigma}^{-1}\\left(\\mathbf{\\phi}_{n} - \\mathbf{\\mu}_{k}\\right)\\}\\right)\n",
    "$$\n",
    "Because $\\mathbf{\\Sigma}$ is symmetric, then $\\frac{\\partial}{\\partial \\mathbf{\\mu_{k}}}\\left(\\mathbf{\\phi}_{n} - \\mathbf{\\mu}_{k}\\right)^{\\intercal}\\mathbf{\\Sigma}^{-1}\\left(\\mathbf{\\phi}_{n} - \\mathbf{\\mu}_{k}\\right) = -2\\mathbf{\\Sigma}\\left(\\mathbf{\\phi}_{n} - \\mathbf{\\mu}_{k}\\right)$ so for class $\\mathbf{C}_{k}$ setting the derivative equal to $0$:\n",
    "$$\n",
    "\\frac{\\partial ln[p\\left(\\{\\phi_{n},\\mathbf{t}_{n}\\}|\\{\\pi_{n}\\}\\right)]}{\\partial \\mathbf{\\mu_{k}}} = \\sum_{n=1}^{N}t_{nk}\\{\\mathbf{\\Sigma}^{-1}\\left(\\mathbf{\\phi}_{n} - \\mathbf{\\mu}_{k}\\right)\\} = 0\n",
    "$$\n",
    "Rearranging\n",
    "$$\n",
    "0 = \\sum_{n=1}^{N}t_{nk}\\{\\mathbf{\\Sigma}^{-1}\\left(\\mathbf{\\phi}_{n} - \\mathbf{\\mu}_{k}\\right)\\} = \\sum_{n=1}^{N}t_{nk}\\mathbf{\\Sigma}^{-1}\\left(\\mathbf{\\phi}_{n}\\right) - \\sum_{n=1}^{N}t_{nk}\\mathbf{\\Sigma}^{-1}\\left(\\mathbf{\\mu}_{k}\\right)\n",
    "$$\n",
    "Solving for $\\mathbf{\\mu_{k}}$\n",
    "$$\n",
    "\\sum_{n=1}^{N}t_{nk}\\mathbf{\\Sigma}^{-1}\\left(\\mathbf{\\phi}_{n}\\right) = \\sum_{n=1}^{N}t_{nk}\\mathbf{\\Sigma}^{-1}\\left(\\mathbf{\\mu}_{k}\\right)\n",
    "$$\n",
    "The sum over all targets in class $\\mathbf{C}_{k}$ yields $\\sum_{n=1}^{N}t_{nk} = N_{k}$ the number of targets in class $\\mathbf{C}_{k}$. Using this\n",
    "$$\n",
    "\\sum_{n=1}^{N}t_{nk}\\mathbf{\\Sigma}^{-1}\\left(\\mathbf{\\phi}_{n}\\right) = N_{k}\\mathbf{\\Sigma}^{-1}\\left(\\mathbf{\\mu}_{k}\\right)\n",
    "$$\n",
    "Multiplying both sides by $\\mathbf{\\Sigma}$ and dividing by $N_{k}$ yields\n",
    "$$\n",
    "\\mathbf{\\mu}_{k} = \\frac{1}{N_{k}}\\sum_{n=1}^{N}t_{nk}\\mathbf{\\phi}_{n}\n",
    "$$\n",
    "Now repeating this process but for the maximum likelihood solution for the shared covariance matrix. Begin by taking the derivative of the log likelihood with respect to $\\mathbf{\\Sigma}$\n",
    "$$\n",
    "\\frac{\\partial ln[p\\left(\\{\\phi_{n},\\mathbf{t}_{n}\\}|\\{\\pi_{n}\\}\\right)]}{\\partial \\mathbf{\\Sigma}} = \\frac{\\partial}{\\partial\\mathbf{\\Sigma}}\\left(\\sum_{n=1}^{N}\\sum_{k=1}^{K}t_{nk}\\{-\\frac{1}{2}ln\\left(|\\mathbf{\\Sigma}|\\right) -\\frac{1}{2}\\left(\\mathbf{\\phi}_{n} - \\mathbf{\\mu}_{k}\\right)^{\\intercal}\\mathbf{\\Sigma}^{-1}\\left(\\mathbf{\\phi}_{n} - \\mathbf{\\mu}_{k}\\right)\\}\\right)\n",
    "$$\n",
    "First using that $\\frac{\\partial ln\\left(|\\mathbf{\\Sigma}|\\right)}{\\partial \\mathbf{\\Sigma}} = \\left(\\mathbf{\\Sigma}^{-1}\\right)^{\\intercal}$\n",
    "$$\n",
    "\\frac{\\partial ln[p\\left(\\{\\phi_{n},\\mathbf{t}_{n}\\}|\\{\\pi_{n}\\}\\right)]}{\\partial \\mathbf{\\Sigma}} = \\sum_{n=1}^{N}\\sum_{k=1}^{K}t_{nk}\\{-\\frac{1}{2}\\mathbf{\\Sigma}^{-1}\\}-\\frac{1}{2}\\frac{\\partial}{\\partial\\mathbf{\\Sigma}}\\sum_{n=1}^{N}\\sum_{k=1}^{K}t_{nk}\\left(\\mathbf{\\phi}_{n} - \\mathbf{\\mu}_{k}\\right)^{\\intercal}\\mathbf{\\Sigma}^{-1}\\left(\\mathbf{\\phi}_{n} - \\mathbf{\\mu}_{k}\\right)\\}\n",
    "$$\n",
    "Now, using $\\frac{\\partial \\mathbf{a}^{\\intercal}\\mathbf{\\Sigma}^{-1}\\mathbf{b}}{\\partial \\mathbf{\\Sigma}} = -\\mathbf{\\Sigma}^{-\\intercal}\\mathbf{a}\\mathbf{b}^{\\intercal}\\mathbf{\\Sigma}^{-\\intercal}$\n",
    "$$\n",
    "\\frac{\\partial ln[p\\left(\\{\\phi_{n},\\mathbf{t}_{n}\\}|\\{\\pi_{n}\\}\\right)]}{\\partial \\mathbf{\\Sigma}} = \\sum_{n=1}^{N}\\sum_{k=1}^{K}t_{nk}\\{-\\frac{1}{2}\\mathbf{\\Sigma}^{-1}\\}-\\frac{1}{2}\\sum_{n=1}^{N}\\sum_{k=1}^{K}t_{nk}\\left(-\\mathbf{\\Sigma}^{-\\intercal}\\left(\\mathbf{\\phi}_{n} - \\mathbf{\\mu}_{k}\\right)\\left(\\mathbf{\\phi}_{n} - \\mathbf{\\mu}_{k}\\right)^{\\intercal}\\mathbf{\\Sigma}^{-\\intercal}\\right)\n",
    "$$\n",
    "Setting the derivative equal to $0$:\n",
    "$$\n",
    "0 = -\\frac{N}{2}\\mathbf{\\Sigma}^{-1} - \\frac{1}{2}\\sum_{k=1}^{K}\\sum_{n=1}^{N}t_{nk}\\left(-\\mathbf{\\Sigma}^{-\\intercal}\\left(\\mathbf{\\phi}_{n} - \\mathbf{\\mu}_{k}\\right)\\left(\\mathbf{\\phi}_{n} - \\mathbf{\\mu}_{k}\\right)^{\\intercal}\\mathbf{\\Sigma}^{-\\intercal}\\right)\n",
    "$$\n",
    "$$\n",
    "0 = -\\frac{N}{2}\\mathbf{\\Sigma}^{-1} + \\frac{1}{2}\\sum_{k=1}^{K} N_{k}\\mathbf{\\Sigma}^{-\\intercal}\\left(\\frac{1}{N_{k}}\\sum_{n=1}^{N}t_{nk}\\left(\\mathbf{\\phi}_{n} - \\mathbf{\\mu}_{k}\\right)\\left(\\mathbf{\\phi}_{n} - \\mathbf{\\mu}_{k}\\right)^{\\intercal}\\right)\\mathbf{\\Sigma}^{-\\intercal}\n",
    "$$\n",
    "Where $\\mathbf{S}_{k} = \\frac{1}{N_{k}}\\sum_{n=1}^{N}t_{nk}\\left(\\mathbf{\\phi}_{n} - \\mathbf{\\mu}_{k}\\right)\\left(\\mathbf{\\phi}_{n} - \\mathbf{\\mu}_{k}\\right)^{\\intercal}$ and because $\\mathbf{\\Sigma}$ is symmetric, $\\mathbf{\\Sigma}^{-\\intercal} = \\mathbf{\\Sigma}^{-1}$\n",
    "$$\n",
    "0 = -\\frac{N}{2}\\mathbf{\\Sigma}^{-1} + \\frac{1}{2}\\sum_{k=1}^{K} N_{k}\\mathbf{\\Sigma}^{-1}\\mathbf{S}_{k}\\mathbf{\\Sigma}^{-1}\n",
    "$$\n",
    "$$\n",
    "\\frac{N}{2}\\mathbf{\\Sigma}^{-1} = \\mathbf{\\Sigma}^{-1}\\left(\\frac{1}{2}\\sum_{k=1}^{K} N_{k}\\mathbf{S}_{k}\\right)\\mathbf{\\Sigma}^{-1}\n",
    "$$\n",
    "$$\n",
    "\\left(\\frac{N}{2}\\mathbf{\\Sigma}^{-1}\\right)\\mathbf{\\Sigma} = \\left(\\mathbf{\\Sigma}^{-1}\\left(\\frac{1}{2}\\sum_{k=1}^{K} N_{k}\\mathbf{S}_{k}\\right)\\mathbf{\\Sigma}^{-1}\\right)\\mathbf{\\Sigma}\n",
    "$$\n",
    "$$\n",
    "\\frac{N}{2}\\mathbf{\\Sigma} = \\frac{1}{2}\\sum_{k=1}^{K} N_{k}\\mathbf{S}_{k}\n",
    "$$\n",
    "$$\n",
    "\\mathbf{\\Sigma} = \\sum_{k=1}^{K} \\frac{N_{k}}{N}\\mathbf{S}_{k}\n",
    "$$"
   ]
  },
  {
   "cell_type": "markdown",
   "id": "241792c9",
   "metadata": {},
   "source": [
    "**Exercise 2** (3 points): Problem 4.16 from the PRML textbook.<br />\n",
    "<br />\n",
    "From lecture for the binary classification of an ensemble of data points the likelihood can be written as:\n",
    "$$\n",
    "p\\left(\\mathbf{t}|\\mathbf{\\phi}\\right) = \\prod_{n=1}^{N}p\\left(t = 1|\\mathbf{\\phi}_{n}\\right)^{t_{n}}\\left(1 - p\\left(t = 1|\\mathbf{\\phi}_{n}\\right)\\right)^{1 - t_{n}}\n",
    "$$\n",
    "Now, because the targets $t_{n}$ are probabilities, replace with $\\pi_{n}$\n",
    "$$\n",
    "p\\left(\\mathbf{t}|\\mathbf{\\phi}\\right) = \\prod_{n=1}^{N}p\\left(t = 1|\\mathbf{\\phi}_{n}\\right)^{\\pi_{n}}\\left(1 - p\\left(t = 1|\\mathbf{\\phi}_{n}\\right)\\right)^{1 - \\pi_{n}}\n",
    "$$\n",
    "Writing the log likelihood error function:\n",
    "$$\n",
    "E(\\mathbf{\\phi}) = ln\\left[p\\left(\\mathbf{t}|\\mathbf{\\phi}\\right)\\right] = \\sum_{n=1}^{N}\\pi_{n}ln\\left[p\\left(t = 1|\\mathbf{\\phi}_{n}\\right)\\right] + \\left(1 - \\pi_{n}\\right)ln\\left[\\left(1 - p\\left(t = 1|\\mathbf{\\phi}_{n}\\right)\\right)\\right]\n",
    "$$"
   ]
  },
  {
   "cell_type": "markdown",
   "id": "c0f2e6a7",
   "metadata": {},
   "source": [
    "# Coding exercises\n",
    "\n",
    "In the exercises below, we will practice using logistic regression for classification, starting with some low-dimensional synthetic data, then moving on to image classification with real data."
   ]
  },
  {
   "cell_type": "code",
   "execution_count": 2,
   "id": "b7de1fec",
   "metadata": {},
   "outputs": [],
   "source": [
    "import numpy as np\n",
    "import matplotlib.pyplot as plt\n",
    "from IPython.display import display, clear_output"
   ]
  },
  {
   "cell_type": "code",
   "execution_count": 3,
   "id": "00d8270e",
   "metadata": {},
   "outputs": [
    {
     "data": {
      "text/plain": [
       "Text(0, 0.5, 'x2')"
      ]
     },
     "execution_count": 3,
     "metadata": {},
     "output_type": "execute_result"
    },
    {
     "data": {
      "image/png": "[encoded data removed]",
      "text/plain": [
       "<Figure size 288x288 with 1 Axes>"
      ]
     },
     "metadata": {
      "needs_background": "light"
     },
     "output_type": "display_data"
    }
   ],
   "source": [
    "# Make up some two-dimensional data:\n",
    "nA = 100\n",
    "muA = np.array([1., 0])\n",
    "sigA = np.array([[1,-0.8],[-0.8,1]])\n",
    "xA = np.random.multivariate_normal(muA, sigA, nA)\n",
    "nB = 100\n",
    "muB = np.array([-1., -0.5])\n",
    "sigB = np.array([[1,0.3],[0.3,1]])\n",
    "xB = np.random.multivariate_normal(muB, sigB, nB)\n",
    "\n",
    "# Reformat the data:\n",
    "X = np.vstack((xA, xB))  # X should be n_samples by n_variables, where n_samples=nA+nB\n",
    "y = np.append(np.zeros(nA), np.ones(nB))  # y should have length n_samples\n",
    "\n",
    "# Plot the data:\n",
    "plt.figure(figsize=(4,4))\n",
    "plt.plot(xA[:,0], xA[:,1], '.')\n",
    "plt.plot(xB[:,0], xB[:,1], '.')\n",
    "plt.xlabel('x1')\n",
    "plt.ylabel('x2')"
   ]
  },
  {
   "cell_type": "markdown",
   "id": "679bd9ef",
   "metadata": {},
   "source": [
    "## Logistic regression with simulated data"
   ]
  },
  {
   "cell_type": "markdown",
   "id": "4344d195",
   "metadata": {},
   "source": [
    "**Exercise 1** (5 points): Fit a logistic regression classifier to the synthetic data from above using `LogisticRegression` from the `sklearn` library. Alternatively, you can use `LogisticRegressionCV`, which includes L2 regularization of the weights, with built-in cross-validation to determine the regularization parameter. Report the classification accuracy and plot the result as in the previous exercise."
   ]
  },
  {
   "cell_type": "code",
   "execution_count": 4,
   "id": "90e108ad",
   "metadata": {},
   "outputs": [
    {
     "name": "stdout",
     "output_type": "stream",
     "text": [
      "Average accuracy: 0.9 , standard error: 0.07\n"
     ]
    },
    {
     "data": {
      "image/png": "[encoded data removed]",
      "text/plain": [
       "<Figure size 576x432 with 2 Axes>"
      ]
     },
     "metadata": {
      "needs_background": "light"
     },
     "output_type": "display_data"
    }
   ],
   "source": [
    "from sklearn.linear_model import LogisticRegression\n",
    "from sklearn.model_selection import StratifiedKFold\n",
    "from scipy import stats\n",
    "import matplotlib.pyplot as plt\n",
    "\n",
    "\n",
    "## Solution ##\n",
    "skf = StratifiedKFold(n_splits=5)\n",
    "skf.get_n_splits(X, y)\n",
    "\n",
    "accs = []\n",
    "for train_index, test_index in skf.split(X, y):\n",
    "    X_train, X_test = X[train_index], X[test_index]\n",
    "    y_train, y_test = y[train_index], y[test_index]\n",
    "    clf = LogisticRegression(random_state=0).fit(X_train, y_train)\n",
    "    accs.append(clf.score(X_test, y_test))\n",
    "\n",
    "acc_av = np.mean(accs)\n",
    "se = stats.sem(accs, axis=0)#calculate standard error of the mean across all condition number trajectories\n",
    "n = len(accs)\n",
    "confidence=0.95\n",
    "h = se * stats.t.ppf((1 + confidence) / 2., n-1)\n",
    "\n",
    "print('Average accuracy: ' + str(np.round(acc_av, 2)) + ' , standard error: ' + str(np.round(h, 2)))\n",
    "\n",
    "xx, yy = np.mgrid[-5:5:.01, -5:5:.01]\n",
    "grid = np.c_[xx.ravel(), yy.ravel()]\n",
    "probs = clf.predict_proba(grid)[:, 1].reshape(xx.shape)\n",
    "\n",
    "f, ax = plt.subplots(figsize=(8, 6))\n",
    "contour = ax.contourf(xx, yy, probs, 25, cmap=\"coolwarm\",\n",
    "                      vmin=0, vmax=1)\n",
    "ax_c = f.colorbar(contour)\n",
    "ax_c.set_label(\"$P(y = 1)$\")\n",
    "ax_c.set_ticks([0, .25, .5, .75, 1])\n",
    "\n",
    "ax.scatter(xA[:,0], xA[:,1],\n",
    "           edgecolor=\"white\", linewidth=1)\n",
    "ax.scatter(xB[:,0], xB[:,1],\n",
    "           edgecolor=\"white\", linewidth=1)\n",
    "ax.set(aspect=\"equal\",\n",
    "       xlim=(-5, 5), ylim=(-5, 5),\n",
    "       xlabel=\"$X_1$\", ylabel=\"$X_2$\")\n",
    "\n",
    "ax.contour(xx, yy, probs, levels=[.5], cmap=\"Greys\", vmin=0, vmax=.6, linestyles=['dashed']);"
   ]
  },
  {
   "cell_type": "markdown",
   "id": "f0df4d1c",
   "metadata": {},
   "source": [
    "## Logistic regression on MNIST\n",
    "\n",
    "The MNIST dataset is an extremely common dataset for testing algorithms in machine learning. The dataset consists of a large number of handwritten images, where the images are represented by one-dimensional arrays, where each component of the vector represents the grayscale intensity of one image pixel. The images are 28-by-28 pixels, flattened into arrays of length $784=28^2$. The image labels are integers from 0 to 9, representing the identity of each handwritten digit. Below, we will train a classifier with logistic regression to take one of the images as input and predict the identity of the that image.\n",
    "\n",
    "Note that, because of the large dimension $M=784$ of the data, logistic regression is a better choice than the generative classification approaches implemented above (LDA and QDA). While logistic regression requires us to fit $~M$ parameters, the generative approaches would require $~M^2$ parameters."
   ]
  },
  {
   "cell_type": "code",
   "execution_count": 5,
   "id": "44b56a32",
   "metadata": {},
   "outputs": [
    {
     "name": "stdout",
     "output_type": "stream",
     "text": [
      "[5, 0, 4, 1, 9, 2, 1, 3, 1, 4, 3, 5, 3, 6, 1, 7, 2, 8, 6, 9]\n"
     ]
    }
   ],
   "source": [
    "from sklearn.datasets import fetch_openml\n",
    "\n",
    "# Import the data:\n",
    "images0, labels0 = fetch_openml(\"mnist_784\", version=1, return_X_y=True, as_frame=False)\n",
    "labels0 = [int(label) for label in labels0]  # Convert labels from strings to integers\n",
    "\n",
    "# Look at the labels:\n",
    "print(labels0[:20])"
   ]
  },
  {
   "cell_type": "code",
   "execution_count": 6,
   "id": "65fe6387",
   "metadata": {},
   "outputs": [
    {
     "name": "stdout",
     "output_type": "stream",
     "text": [
      "(70000, 784) (70000,)\n"
     ]
    },
    {
     "data": {
      "text/plain": [
       "<matplotlib.image.AxesImage at 0x7feff8320550>"
      ]
     },
     "execution_count": 6,
     "metadata": {},
     "output_type": "execute_result"
    },
    {
     "data": {
      "image/png": "[encoded data removed]",
      "text/plain": [
       "<Figure size 432x288 with 1 Axes>"
      ]
     },
     "metadata": {
      "needs_background": "light"
     },
     "output_type": "display_data"
    }
   ],
   "source": [
    "# The size of the full dataset:\n",
    "print(np.shape(images0), np.shape(labels0)) \n",
    "\n",
    "# To speed things up, we'll just use a fraction of the data (feel free to use more if you like):\n",
    "n_samples = 5000  \n",
    "images = images0[:n_samples,:]\n",
    "labels = labels0[:n_samples]\n",
    "\n",
    "# Keep some separate data for testing:\n",
    "images_test = images0[n_samples:2*n_samples,:]\n",
    "labels_test = labels0[n_samples:2*n_samples]\n",
    "\n",
    "# To show an example image, reshape the length 784 vector of pixel intensities into a 28x28 matrix:\n",
    "plt.imshow(np.reshape(images[0,:], (28,28)))"
   ]
  },
  {
   "cell_type": "markdown",
   "id": "43100093",
   "metadata": {},
   "source": [
    "In class, we discussed logistic regression with $K\\geq 2$ classes. The probability that an input $\\vec{x}$ belongs to class $C_k$ is given by the softmax function:\n",
    "$$\n",
    "p(C_k | \\vec{x}) = y_k \n",
    "= \\frac{\\exp(\\vec{w}_k \\cdot \\vec{\\phi}(\\vec{x}))}{\\sum_j \\exp(\\vec{w}_j \\cdot \\vec{\\phi}(\\vec{x}))},\n",
    "$$\n",
    "and the target label $\\vec{t}_n$ for input $\\vec{x}_n$ is given by a one-hot vector, i.e. a vector with 1 in the $k$ th entry (if the image belongs to class $C_k$) and zeros elsewhere. We showed that the \"cross-entropy\" error to be minimized is given by\n",
    "$$\n",
    "E(\\vec{w}_1, \\ldots, \\vec{w}_K) = -\\sum_{n=1}^N \\sum_{k=1}^K t_{nk} \\ln y_k(\\vec{x}_n).\n",
    "$$\n",
    "Taking the derivative of this error with respect to $\\vec{w}_i$ gave\n",
    "$$\n",
    "\\frac{\\partial E}{\\partial \\vec{w}_i} = \n",
    "-\\sum_n \\sum_k t_{nk} [\\delta_{ki} - y_i(\\vec{x}_n)] \\vec{\\phi}(\\vec{x}_n).\n",
    "$$"
   ]
  },
  {
   "cell_type": "markdown",
   "id": "3afa8d6a",
   "metadata": {},
   "source": [
    "**Exercise 2** (5 points): In this exercise we will use the above expressions to implement logistic regression from scratch using only basic Numpy functions. In this exercise, no built-in functions performing logistic regression may be used. First, create one-hot target vectors from the image labels. Next, initialize the weights $\\vec{w}_k$ randomly and use the above expressions to update the weights with gradient descent (or, if you prefer, stochastic gradient descent). You will have to use trial and error to choose a learning rate that is small enough to avoid diverging $\\vec{w}_k$ but large enough to successfully train in a reasonable number of steps. At each iteration of gradient descent, record the error, then make a plot that shows the error decreasing during training. Once the error has decreased to a small value, freeze the weights, then compute and report the percentage of correct classifications for the images in the testing set. You should be able to obtain testing accuracy of around 70-90%.\n",
    "\n",
    "Note (Optional): If you're feeling fancy, feel free to try implementing the iterative reweighted least squares algorithm described in Section 4.3.3 of PRML. This algorithm uses second-derivative information in addition to the first derivative shown above. This means that the algorithm should converge in a smaller number of steps than gradient descent, though each step will be more expensive to compute. Another (also optional) thing to try if you're feeling fancy: Include an L2 regularization term for the weights in the error defined above, and see whether this leads to improved performance compared with the model without regularization."
   ]
  },
  {
   "cell_type": "code",
   "execution_count": 7,
   "id": "04ef8fa9",
   "metadata": {},
   "outputs": [
    {
     "name": "stdout",
     "output_type": "stream",
     "text": [
      " Iteration 999 Test Loss: 0.6127081987540863 0.7868150624925747 0.6731575444999981 813 Test Loss: 0.6565863489368392Iteration 969 Test Loss: 0.6155990097884547"
     ]
    },
    {
     "data": {
      "image/png": "[encoded data removed]",
      "text/plain": [
       "<Figure size 432x288 with 1 Axes>"
      ]
     },
     "metadata": {
      "needs_background": "light"
     },
     "output_type": "display_data"
    }
   ],
   "source": [
    "## Solution ##\n",
    "def makeOneHot(labels):\n",
    "    np_labels = np.array(labels)\n",
    "    n_values = np.max(labels) + 1\n",
    "    t_oh = np.eye(n_values)[labels]\n",
    "    #check that indeed all the one hot indices are the same as the indices for the original labels\n",
    "    assert all(all(np_labels[np.argwhere(t_oh[:,i]>0)] == i) for i in range(t_oh.shape[1]))\n",
    "    return t_oh\n",
    "\n",
    "def minMax_normalize(x):\n",
    "    max_value = np.amax(x, axis=1)#max across the row\n",
    "    min_value = np.amin(x, axis=1)#min across the row\n",
    "    x_norm = np.zeros_like(x)\n",
    "    for i in range(x.shape[0]):\n",
    "        x_norm[i] = (x[i] - min_value[i]) / (max_value[i] - min_value[i])\n",
    "    return x_norm\n",
    "\n",
    "def softmax(x, axis=0):\n",
    "    sm = []\n",
    "    for i in range(x.shape[0]):\n",
    "        sm.append(np.exp(x[i])/sum(np.exp(x[i])))\n",
    "    return np.stack(sm)\n",
    "\n",
    "def cross_entropy_loss(t_oh, w, phi):\n",
    "    \"\"\"\n",
    "    t_oh: onehot encoded targets\n",
    "    \"\"\"\n",
    "    z = - phi @ w#\n",
    "    N = phi.shape[0]\n",
    "    loss = 1/N * (np.trace(phi @ w @ t_oh.T) + np.sum(np.log(np.sum(np.exp(z), axis=1))))\n",
    "    return loss\n",
    "\n",
    "def loss_gradient(t_oh, w, phi):\n",
    "    z = - phi @ w\n",
    "    P = softmax(z)\n",
    "    N = phi.shape[0]\n",
    "    dEdw = 1/N * (phi.T @ (t_oh - P))# + 2 * mu * W\n",
    "    return dEdw\n",
    "\n",
    "def predict(phi, w):\n",
    "    z = - phi @ w\n",
    "    P = softmax(z)\n",
    "    return np.argmax(P, axis=1)\n",
    "\n",
    "def train(labels, labels_test, images, images_test, error_tol = 1e-5, max_epochs = 1000, batch_size = 10, eta = 0.01):\n",
    "    '''\n",
    "    error_tol : tolerance threshold for early stopping\n",
    "    max_epochs : max epoch stopping criteria if error does not converge below tolerance threshold\n",
    "    batch_size : number of images per gradient descent batch\n",
    "    eta : gradient descent learning rate for weight parameter update\n",
    "    '''\n",
    "    bias = True#indicates whether or not to include bias term\n",
    "    if bias == True:#check if bias term to be included\n",
    "        images = np.insert(images, 0, np.ones(images.shape[0]), axis=1)#if bias term included, add column of 1s to image\n",
    "        images_test = np.insert(images_test, 0, np.ones(images_test.shape[0]), axis=1)#if bias term included, add column of 1s to image\n",
    "\n",
    "    t_oh = makeOneHot(labels)#get one hot encoded array\n",
    "    test_t_oh = makeOneHot(labels_test)#get one hot encoded array\n",
    "    K = t_oh.shape[1]#number of onehot columns indicates the number of distinct digit classes (10)\n",
    "    dim = images.shape[1]#number of pixel inputs (784) or 785 with bias\n",
    "    w = np.random.randn(dim, K) / np.sqrt(K*dim) # (10*784) or 785 with bias\n",
    "    epoch = 0#epoch counter initialization\n",
    "    epoch_test_losses = []\n",
    "    epoch_train_losses = []\n",
    "    batch_train_losses = []\n",
    "    batch_test_losses = []\n",
    "    error = 1.0#initial error\n",
    "    prev_error = 2.0\n",
    "    while ((prev_error - error > error_tol and error < prev_error)) and (max_epochs > epoch):\n",
    "        ind_shuff = np.random.choice(images.shape[0],images.shape[0],replace=False)#make random order of images to not bias training by order\n",
    "        labels_ = t_oh[ind_shuff]#shuffled one hot labels\n",
    "        images_ = images[ind_shuff]#shuffled images\n",
    "        batched_images = images_.reshape([-1, batch_size, images_.shape[1]])\n",
    "        batched_labels = labels_.reshape([-1, batch_size, labels_.shape[1]])\n",
    "        n_batch = int(images.shape[0]/batch_size)#divide the images into batches for gradient descent\n",
    "        # for each batch of train data\n",
    "        t_loss = []\n",
    "        b_loss = []\n",
    "\n",
    "        # clear_output(wait=True)\n",
    "        for b_itr in range(n_batch):\n",
    "            prev_error = error\n",
    "            batch_inds = batched_images[b_itr]#grab slice of images along batch axis (0th axis)\n",
    "            batch_labels = batched_labels[b_itr]\n",
    "            #calculate gradient\n",
    "            dw = loss_gradient(batch_labels, w, batch_inds)\n",
    "            train_error = cross_entropy_loss(batch_labels, w, batch_inds)\n",
    "            b_loss.append(train_error)\n",
    "\n",
    "            #get batch test loss\n",
    "            test_error = cross_entropy_loss(test_t_oh, w, images_test)\n",
    "            t_loss.append(test_error)#batch test loss\n",
    "            error = test_error#update global error variable\n",
    "\n",
    "            w -= eta * dw#step weights\n",
    "            # print('\\r','Iteration', b_itr+(epoch*n_batch), 'Test Loss:', error, end='')\n",
    "\n",
    "\n",
    "        batch_train_losses.append(b_loss)\n",
    "        batch_error = np.mean(np.hstack(batch_train_losses))\n",
    "        epoch_train_losses.append(batch_error)#epoch loss is average batch loss\n",
    "\n",
    "        #get epoch test loss\n",
    "        test_loss = cross_entropy_loss(test_t_oh, w, images_test)\n",
    "        epoch_test_losses.append(test_loss)#epoch loss is average batch loss\n",
    "        batch_test_losses.append(t_loss)\n",
    "        epoch+=1\n",
    "\n",
    "    preds = predict(images_test, w)\n",
    "    correct = 0\n",
    "    for i in range(len(preds)):\n",
    "        if preds[i] == labels_test[i]:\n",
    "            correct += 1\n",
    "    accuracy = (correct / len(preds))*100\n",
    "\n",
    "    result_dict = {'train_epoch_loss': np.hstack(epoch_train_losses),\n",
    "                    'test_epoch_loss': np.hstack(epoch_test_losses),\n",
    "                    'train_batch_loss': np.hstack(batch_train_losses),\n",
    "                    'test_batch_loss':np.hstack(batch_test_losses),\n",
    "                    'test_accuracy': accuracy}\n",
    "    return result_dict\n",
    "\n",
    "\n",
    "images = minMax_normalize(images)\n",
    "images_test = minMax_normalize(images_test)\n",
    "results = train(labels, labels_test, images, images_test, error_tol = 1e-7, max_epochs = 1000, batch_size = 10, eta = 0.01)\n",
    "\n",
    "fig, ax = plt.subplots()\n",
    "ax.plot(range(len(results['train_batch_loss'])), results['train_batch_loss'], label='Train')\n",
    "ax.plot(range(len(results['test_batch_loss'])), results['test_batch_loss'], label='Test')\n",
    "ax.set_ylabel('Cross Entropy Loss')\n",
    "ax.set_xlabel('Training Batch')\n",
    "textstr = r'$Accuracy=%.2f$' % (results['test_accuracy'],)\n",
    "\n",
    "# these are matplotlib.patch.Patch properties\n",
    "props = dict(boxstyle='round', facecolor='wheat', alpha=0.5)\n",
    "\n",
    "# place a text box in upper left in axes coords\n",
    "ax.text(0.05, 0.05, textstr, transform=ax.transAxes, fontsize=14,\n",
    "        verticalalignment='bottom', bbox=props)\n",
    "ax.legend();\n"
   ]
  },
  {
   "cell_type": "markdown",
   "id": "cdbc201c",
   "metadata": {},
   "source": [
    "**Exercise 3** (3 points): Repeat the exercise above, now doing things the easy way. Use `LogisticRegression` from the `sklearn` library to perform logistic regression on the MNIST data, then report the percentage of correct classifications using the held-out testing data. If you're feeling fancy (optional) try using L1 and/or L2 regularization or any other tricks you can think of to try to boost the final testing performance."
   ]
  },
  {
   "cell_type": "code",
   "execution_count": 8,
   "id": "801d0eae",
   "metadata": {
    "scrolled": true
   },
   "outputs": [
    {
     "name": "stdout",
     "output_type": "stream",
     "text": [
      "Average accuracy: 0.88 , standard error: 0.01\n"
     ]
    }
   ],
   "source": [
    "from sklearn.linear_model import LogisticRegression\n",
    "\n",
    "## Solution ##\n",
    "skf = StratifiedKFold(n_splits=5)\n",
    "labels = np.array(labels)\n",
    "\n",
    "accs = []\n",
    "for train_index, test_index in skf.split(images, labels):\n",
    "    X_train, X_test = images[train_index], images[test_index]\n",
    "    y_train, y_test = labels[train_index], labels[test_index]\n",
    "    clf = LogisticRegression(fit_intercept=True,\n",
    "                        multi_class='multinomial',\n",
    "                        penalty='l2', #ridge regression\n",
    "                        solver='lbfgs',\n",
    "                        max_iter=10000,\n",
    "                        C=50).fit(X_train, y_train)\n",
    "    accs.append(clf.score(X_test, y_test))\n",
    "\n",
    "acc_av = np.mean(accs)\n",
    "se = stats.sem(accs, axis=0)#calculate standard error of the mean across all condition number trajectories\n",
    "n = len(accs)\n",
    "confidence=0.95\n",
    "h = se * stats.t.ppf((1 + confidence) / 2., n-1)\n",
    "\n",
    "print('Average accuracy: ' + str(np.round(acc_av, 2)) + ' , standard error: ' + str(np.round(h, 2)))\n"
   ]
  },
  {
   "cell_type": "code",
   "execution_count": null,
   "id": "2c5de14c",
   "metadata": {},
   "outputs": [],
   "source": []
  }
 ],
 "metadata": {
  "kernelspec": {
   "display_name": "Python 3 (ipykernel)",
   "language": "python",
   "name": "python3"
  },
  "language_info": {
   "codemirror_mode": {
    "name": "ipython",
    "version": 3
   },
   "file_extension": ".py",
   "mimetype": "text/x-python",
   "name": "python",
   "nbconvert_exporter": "python",
   "pygments_lexer": "ipython3",
   "version": "3.8.5"
  }
 },
 "nbformat": 4,
 "nbformat_minor": 5
}
