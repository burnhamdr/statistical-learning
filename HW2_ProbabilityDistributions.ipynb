{
 "cells": [
  {
   "cell_type": "markdown",
   "metadata": {},
   "source": [
    "# Mathematical exercises\n",
    "\n",
    "Solutions to the following exercises may be either typed into the submitted Jupyter notebook, or handwritten solutions may be scanned and submitted as a separate PDF file.\n"
   ]
  },
  {
   "cell_type": "markdown",
   "metadata": {},
   "source": [
    "**Exercise 1** (3 points): Problem 2.4 from the PRML textbook.<br />\n",
    "Show that the mean of the binomial distribution is given by (2.11). To do this, differentiate both sides of the normalization condition (2.264) with respect to $\\mu$ and then rearrange to obtain an expression for the mean of $n$. Similarly, by differentiating (2.264) twice with respect to $\\mu$ and making use of the result (2.11) for the mean of the binomial distribution prove the result (2.12) for the variance of the binomial.<br />\n",
    "<br />\n",
    "Differentiating (2.264) once with respect to $\\mu$:<br />\n",
    "<br />\n",
    "$\\frac{d}{d\\mu}\\left(\\sum_{m=0}^{N}\\binom{N}{m}\\mu^{m}\\left(1 - \\mu\\right)^{N-m}\\right) = \\frac{d}{d\\mu}1$<br />\n",
    "<br />\n",
    "$\\sum_{m=0}^{N}\\binom{N}{m}[m\\mu^{m-1}\\left(1 - \\mu\\right)^{N-m} - \\mu^{m}\\left(N-m\\right)\\left(1 - \\mu\\right)^{N-m-1}] = 0$<br />\n",
    "<br />\n",
    "Multiplying both sides by $\\mu\\left(1-\\mu\\right)$:<br />\n",
    "<br />\n",
    "$\\sum_{m=0}^{N}\\binom{N}{m}[m\\mu^{m}\\left(1 - \\mu\\right)^{N-m+1} - \\mu^{m+1}\\left(N-m\\right)\\left(1 - \\mu\\right)^{N-m}] = 0$<br />\n",
    "<br />\n",
    "$\\sum_{m=0}^{N}\\binom{N}{m}\\mu^{m}\\left(1 - \\mu\\right)^{N-m}[m\\left(1 - \\mu\\right) - \\mu\\left(N-m\\right)] = 0$<br />\n",
    "<br />\n",
    "$\\sum_{m=0}^{N}\\binom{N}{m}\\mu^{m}\\left(1 - \\mu\\right)^{N-m}[m - N\\mu] = 0$<br />\n",
    "<br />\n",
    "$\\sum_{m=0}^{N}\\binom{N}{m}\\mu^{m}\\left(1 - \\mu\\right)^{N-m}m - \\sum_{m=0}^{N}\\binom{N}{k}\\mu^{m}\\left(1 - \\mu\\right)^{N-m}N\\mu = 0$<br />\n",
    "<br />\n",
    "$\\mathbb{E}[m] - N\\mu = 0 \\Rightarrow \\mathbb{E}[m] = N\\mu$<br />\n",
    "<br />\n",
    "Differentiating (2.264) a second time with respect to $\\mu$:<br />\n",
    "<br />\n",
    "$\\frac{d}{d\\mu}\\left(\\sum_{m=0}^{N}\\binom{N}{m}[m\\mu^{m-1}\\left(1 - \\mu\\right)^{N-m} - \\mu^{m}\\left(N-m\\right)\\left(1 - \\mu\\right)^{N-m-1}]\\right) = \\frac{d}{d\\mu}0$<br />\n",
    "<br />\n",
    "$\\sum_{m=0}^{N}\\binom{N}{m}[m\\left(m-1\\right)\\mu^{m-2}\\left(1 - \\mu\\right)^{N-m} - m\\left(N-m\\right)\\mu^{m-1}\\left(1 - \\mu\\right)^{N-m-1} - m\\left(N-m\\right)\\mu^{m-1}\\left(1-\\mu\\right)^{N-m-1} + \\mu^{m}\\left(N-m-1\\right)\\left(N-m\\right)\\left(1 - \\mu\\right)^{N-m-2}]$<br />\n",
    "<br />\n",
    "$\\sum_{m=0}^{N}\\binom{N}{m}[m\\left(m-1\\right)\\mu^{m-2}\\left(1 - \\mu\\right)^{N-m} - 2m\\left(N-m\\right)\\mu^{m-1}\\left(1 - \\mu\\right)^{N-m-1} - \\mu^{m}\\left(N-m-1\\right)\\left(N-m\\right)\\left(1 - \\mu\\right)^{N-m-2}]$<br />\n",
    "<br />\n",
    "Multiplying both sides by $\\mu^{2}\\left(1-\\mu\\right)^{2}$:<br />\n",
    "<br />\n",
    "$\\sum_{m=0}^{N}\\binom{N}{m}[m\\left(m-1\\right)\\mu^{m}\\left(1 - \\mu\\right)^{N-m+2} - 2m\\left(N-m\\right)\\mu^{m+1}\\left(1 - \\mu\\right)^{N-m+1} - \\mu^{m+2}\\left(N-m-1\\right)\\left(N-m\\right)\\left(1 - \\mu\\right)^{N-m}]$<br />\n",
    "<br />\n",
    "$\\sum_{m=0}^{N}\\binom{N}{m}\\mu^{m}\\left(1 - \\mu\\right)^{N-m}[m\\left(m-1\\right)\\left(1 - \\mu\\right)^{2} - 2m\\left(N-m\\right)\\mu\\left(1 - \\mu\\right) - \\mu^{2}\\left(N-m-1\\right)\\left(N-m\\right)]$<br />\n",
    "<br />\n",
    "$\\sum_{m=0}^{N}\\binom{N}{m}\\mu^{m}\\left(1 - \\mu\\right)^{N-m}[m\\left(m-1\\right)\\left(1 - \\mu\\right)^{2} - 2m\\left(N-m\\right)\\mu\\left(1 - \\mu\\right) - \\mu^{2}\\left(N-m-1\\right)\\left(N-m\\right)]$<br />\n",
    "<br />\n",
    "$\\sum_{m=0}^{N}\\binom{N}{m}\\mu^{m}\\left(1 - \\mu\\right)^{N-m}[m^{2} - 2\\mu m^{2} + u^{2}m^{2} - m + 2\\mu m -\\mu^{2}m - 2N\\mu m + 2\\mu m^{2} + 2N\\mu^{2}m - 2\\mu^{2}m^{2} + N^{2}\\mu^{2} - 2N\\mu^{2}m +\\mu^{2}m^{2} - N\\mu^{2} + \\mu^{2}m]$<br />\n",
    "<br />\n",
    "$\\sum_{m=0}^{N}\\binom{N}{m}\\mu^{m}\\left(1 - \\mu\\right)^{N-m}[\\left(m^{2} - 2N\\mu m + N^{2}\\mu^{2}\\right) - m + 2\\mu m - Nmu^{2}]$<br />\n",
    "<br />\n",
    "$\\sum_{m=0}^{N}\\binom{N}{m}\\mu^{m}\\left(1 - \\mu\\right)^{N-m}\\left(m - N\\mu\\right)^{2} - \\sum_{m=0}^{N}\\binom{N}{m}\\mu^{m}\\left(1 - \\mu\\right)^{N-m}m + \\sum_{m=0}^{N}\\binom{N}{m}\\mu^{m}\\left(1 - \\mu\\right)^{N-m}2\\mu m - \\sum_{m=0}^{N}\\binom{N}{m}\\mu^{m}\\left(1 - \\mu\\right)^{N-m}Nmu^{2}$<br />\n",
    "<br />\n",
    "$\\sum_{m=0}^{N}\\binom{N}{m}\\mu^{m}\\left(1 - \\mu\\right)^{N-m}\\left(m - \\mathbb{E}[m]\\right)^{2} - N\\mu + N\\mu^{2}$<br />\n",
    "<br />\n",
    "$\\sum_{m=0}^{N}\\binom{N}{m}\\mu^{m}\\left(1 - \\mu\\right)^{N-m}\\left(m - \\mathbb{E}[m]\\right)^{2} = N\\mu - N\\mu^{2} = N\\mu\\left(1 - \\mu\\right)$<br />\n",
    "<br />\n",
    "$var[m] = N\\mu\\left(1 - \\mu\\right)$<br />\n"
   ]
  },
  {
   "cell_type": "markdown",
   "metadata": {},
   "source": [
    "**Exercise 2** (5 points): Problem 2.18 from the PRML textbook.<br />\n",
    "Consider a real, symmetric matrix $\\Sigma$ whose eigenvalue equation is given by (2.45). By taking the complex conjugate of this equation and subtracting the original equation, and then forming the inner product with eigenvector $u_{i}$, show that the eigenvalues $\\lambda_{i}$ are real. Similarly, use the symmetry property of $\\Sigma$ to show that two eigenvectors $u_{i}$ and $u_{j}$ will be orthogonal provided $\\lambda_{j}\\neq\\lambda_{i}$. Finally, show that without loss of generality, the set of eigenvectors can be chosen to be orthonormal, so that they satisfy (2.46), even if some of the eigenvalues are zero.\n",
    "\n",
    "First since $\\Sigma$ is real: $\\Sigma^{*} = \\Sigma^{*}$. Also, because $\\Sigma$ is symmetric: $\\Sigma = \\Sigma^{\\intercal}$<br />\n",
    "<br />\n",
    "Taking the complex conjugate of (2.45):<br />\n",
    "<br />\n",
    "$\\left(\\Sigma\\mathbf{u}_{i}\\right)^{*} = \\left(\\lambda_{i}\\mathbf{u}_{i}\\right)^{*}$ yields $\\Sigma\\left(\\mathbf{u}_{i}\\right)^{*} = \\left(\\lambda_{i}\\mathbf{u}_{i}\\right)^{*}$ by the above statements regarding $\\Sigma$.<br />\n",
    "<br />\n",
    "Now multiplying the original equation (2.45) on the left by $\\left(\\mathbf{u}_{i}^{\\intercal}\\right)^{*}$: $\\left(\\mathbf{u}_{i}^{\\intercal}\\right)^{*}\\Sigma\\mathbf{u}_{i} =\\left(\\mathbf{u}_{i}^{\\intercal}\\right)^{*} \\lambda_{i}\\mathbf{u}_{i} = \\lambda_{i}\\left(\\mathbf{u}_{i}^{\\intercal}\\right)^{*}\\mathbf{u}_{i}$<br />\n",
    "<br />\n",
    "Because $\\Sigma$ is symmetric we can rearrange: $\\left(\\mathbf{u}_{i}^{\\intercal}\\right)^{*}\\Sigma\\mathbf{u}_{i} = \\Sigma^{\\intercal}\\left(\\mathbf{u}_{i}^{\\intercal}\\right)^{*}\\mathbf{u}_{i}$<br />\n",
    "<br />\n",
    "By the complex conjugate of (2.45): $\\left(\\Sigma\\mathbf{u}_{i}^{*}\\right)^{\\intercal}\\mathbf{u}_{i} = \\left(\\lambda_{i}^{*}\\mathbf{u}_{i}^{*}\\right)^{\\intercal}\\mathbf{u}_{i}$<br />\n",
    "<br />\n",
    "Forming the inner product: $\\left(\\lambda_{i}^{*}\\mathbf{u}_{i}^{*}\\right)^{\\intercal}\\mathbf{u}_{i} = \\left(\\lambda_{i}^{*}\\right)^{\\intercal}\\left(\\mathbf{u}_{i}^{*}\\right)^{\\intercal}\\mathbf{u}_{i}$<br />\n",
    "<br />\n",
    "From above: $\\left(\\lambda_{i}^{*}\\right)^{\\intercal}\\left(\\mathbf{u}_{i}^{*}\\right)^{\\intercal}\\mathbf{u}_{i} = \\lambda_{i}\\left(\\mathbf{u}_{i}^{\\intercal}\\right)^{*}\\mathbf{u}_{i}$ so $\\lambda_{i}^{*} = \\lambda_{i}$ meaning that $\\lambda_{i}$ must be real.<br />\n",
    "\n",
    "To show that two eigenvectors $\\mathbf{u}_{i}$ and $\\mathbf{u}_{j}$ will be orthogonal provided $\\lambda_{j}\\neq\\lambda_{i}$, begin with:\n",
    "<br />\n",
    "$\\mathbf{\\Sigma}\\mathbf{u}_{i} = \\lambda_{i} \\mathbf{u}_{i}$ and $\\mathbf{\\Sigma}\\mathbf{u}_{j} = \\lambda_{j} \\mathbf{u}_{j}$<br />\n",
    "<br />\n",
    "Transpose the eigenvalue equation for eigenvector $u_{j}$ and multiply on the right by the other eigenvector $u_{i}$:<br />\n",
    "<br />\n",
    "$\\left(\\mathbf{\\Sigma}\\mathbf{u}_{j} = \\lambda_{j} \\mathbf{u}_{j}\\right)^{\\intercal}\\mathbf{u}_{i}$<br />\n",
    "<br />\n",
    "$\\mathbf{\\Sigma}\\mathbf{u}_{j}^{\\intercal}u_{i} = \\lambda_{j} \\mathbf{u}_{j}^{\\intercal}\\mathbf{u}_{i}$<br />\n",
    "<br />\n",
    "$\\mathbf{u}_{j}^{\\intercal}\\mathbf{\\Sigma}u_{i} = \\lambda_{j} \\mathbf{u}_{j}^{\\intercal}\\mathbf{u}_{i}$<br />\n",
    "<br />\n",
    "$\\mathbf{u}_{j}^{\\intercal}\\lambda_{i}\\mathbf{u}_{i} = \\lambda_{j} \\mathbf{u}_{j}^{\\intercal}\\mathbf{u}_{i}$<br />\n",
    "<br />\n",
    "$\\lambda_{i}\\mathbf{u}_{j}^{\\intercal}\\mathbf{u}_{i} = \\lambda_{j} \\mathbf{u}_{j}^{\\intercal}\\mathbf{u}_{i}$<br />\n",
    "<br />\n",
    "$\\lambda_{i}\\mathbf{u}_{j}^{\\intercal}\\mathbf{u}_{i} - \\lambda_{j} \\mathbf{u}_{j}^{\\intercal}\\mathbf{u}_{i} = 0$<br />\n",
    "<br />\n",
    "Since $\\lambda_{j}\\neq\\lambda_{i}$, then $\\mathbf{u}_{j}^{\\intercal}\\mathbf{u}_{i} = 0$ and therefore the two eigenvectors $\\mathbf{u}_{i}$ and $\\mathbf{u}_{j}$ are orthogonal.<br />\n",
    "<br />\n",
    "Finally, if we normalize every eigenvector by its two norm we obtain (2.46). This shows that eigenvectors can be chosen to be orthonormal."
   ]
  },
  {
   "cell_type": "markdown",
   "metadata": {},
   "source": [
    "##  The Central Limit Theorem for the binomial distribution\n",
    "\n",
    "In class, we focused on the binomial distribution, which describes discrete variables, as well as the Gaussian (aka normal) distribution, which describes continuous variables. One reason, among zillions, for why the Gaussian function is useful and ubiquitous is because of the Central Limit Theorem, which states that, under some mild assumptions, a sum of a large number of random variables (or, equivalently, the mean, which is just the sum divided by the number of variables) tends to be normally distributed, even if the variables themselves do not come from a normal distribution.\n",
    "\n",
    "Here, we will show that the binomial distribution becomes a normal distribution when the number of samples becomes large. Recall that a variable $m$ drawn from the binomial distribution $\\mathrm{Bin}(m | N, \\mu)$ describes the number of observations in which a binary variable takes the value 1, given that there are $N$ total observations, and each observation gives 1 with probability $\\mu$ (or 0 otherwise). If we let $m=xN$, then $x$ is a random variable describing the fraction of observations in which 1 is observed.\n",
    "\n",
    "Because $x$ is an average of $N$ random binary variables, we expect the Central Limit Theorem to apply. In the two exercises that follow, we will show that $p(x) = \\mathrm{Bin}(xN | N, \\mu)$ becomes a normal distribution as $N \\to \\infty$.\n",
    "\n",
    "**Exercise 3a** (2 points): Use Stirling's approximation $\\ln N! \\approx N(\\ln N - 1)$ (valid for $N \\gg 1$) to show that $p(x) \\propto \\exp[N f(x)]$, where $f(x)$ is independent of $N$, and derive $f(x)$.<br />\n",
    "Start with:<br />\n",
    "<br />\n",
    "$p(x) = \\frac{N!}{\\left(N-xN\\right)!\\left(xN\\right)!}\\mu^{xN}\\left(1 - \\mu\\right)^{N-xN}$\n",
    "Take logarithm of both sidess:<br />\n",
    "<br />\n",
    "$\\ln\\left(p(x)\\right) = \\ln\\left(\\frac{N!}{\\left(N-xN\\right)!\\left(xN\\right)!}\\mu^{xN}\\left(1 - \\mu\\right)^{N-xN}\\right)$<br />\n",
    "<br />\n",
    "$\\ln\\left(p(x)\\right) = \\ln\\left(\\frac{N!}{\\left(N-xN\\right)!\\left(xN\\right)!}\\right) + \\ln\\left(\\mu^{xN}\\right) + \\ln\\left(\\left(1 - \\mu\\right)^{N-xN}\\right)$<br />\n",
    "<br />\n",
    "$\\ln\\left(p(x)\\right) = \\ln\\left(N!\\right) - \\ln\\left(\\left(N-xN\\right)!\\right) - \\ln\\left(\\left(xN\\right)!\\right) + \\ln\\left(\\mu^{xN}\\right) + \\ln\\left(\\left(1 - \\mu\\right)^{N-xN}\\right)$<br />\n",
    "<br />\n",
    "Using Stirling's approximation $\\ln N! \\approx N(\\ln (N) - 1)$:<br />\n",
    "<br />\n",
    "$\\ln\\left(p(x)\\right) = N\\left(\\ln\\left(N\\right) - 1\\right) - \\left(N-xN\\right)\\left(\\ln\\left(N-xN\\right) - 1\\right) - xN\\left(\\ln\\left(xN\\right) - 1\\right) + \\ln\\left(\\mu^{xN}\\right) + \\ln\\left(\\left(1 - \\mu\\right)^{N-xN}\\right)$<br />\n",
    "<br />\n",
    "$\\ln\\left(p(x)\\right) = N\\left(\\ln\\left(N\\right) - 1\\right) - \\left(N-xN\\right)\\left(\\ln\\left(N-xN\\right) - 1\\right) - xN\\left(\\ln\\left(xN\\right) - 1\\right) + xN\\ln\\left(\\mu\\right) + \\left(N-xN\\right)\\ln\\left(1 - \\mu\\right)$<br />\n",
    "<br />\n",
    "$\\ln\\left(p(x)\\right) = N[\\left(\\ln\\left(N\\right) - 1\\right) - \\left(1-x\\right)\\left(\\ln\\left(N-xN\\right) - 1\\right) - x\\left(\\ln\\left(xN\\right) - 1\\right) + x\\ln\\left(\\mu\\right) + \\left(1-x\\right)\\ln\\left(1 - \\mu\\right)]$<br />\n",
    "<br />\n",
    "$\\ln\\left(p(x)\\right) = N[\\ln\\left(N\\right) - \\ln\\left(N\\left(1-x\\right)\\right) + x\\ln\\left(N\\left(1-x\\right)\\right) - x\\ln\\left(x\\right) - x\\ln\\left(N\\right) + x\\ln\\left(\\mu\\right) + \\ln\\left(1-\\mu\\right) - x\\ln\\left(1 - \\mu\\right)]$<br />\n",
    "<br />\n",
    "$\\ln\\left(p(x)\\right) = N[\\ln\\left(N\\right) - \\ln\\left(N\\right) - \\ln\\left(1-x\\right) + x\\ln\\left(N\\right) + x\\ln\\left(1-x\\right) - x\\ln\\left(x\\right) - x\\ln\\left(N\\right) + x\\ln\\left(\\mu\\right) + \\ln\\left(1-\\mu\\right) - xln\\left(1 - \\mu\\right)]$<br />\n",
    "<br />\n",
    "$\\ln\\left(p(x)\\right) = N[x\\ln\\left(1-x\\right) - \\ln\\left(1-x\\right)  - x\\ln\\left(x\\right) + x\\ln\\left(\\mu\\right) + \\ln\\left(1-\\mu\\right) - x\\ln\\left(1 - \\mu\\right)]$<br />\n",
    "<br />\n",
    "$p(x) = \\exp\\left(N[x\\ln\\left(1-x\\right) - \\ln\\left(1-x\\right)  - x\\ln\\left(x\\right) + x\\ln\\left(\\mu\\right) + \\ln\\left(1-\\mu\\right) - x\\ln\\left(1 - \\mu\\right)]\\right) = \\exp\\left(N[f(x)]\\right)$<br />\n",
    "<br />\n",
    "**Exercise 3b** (2 points). As $N \\to \\infty$, we can apply the method of steepest descent, which means that the exponential in $p(x)$ will be vanishingly small except for values of $x$ very close to the maximum of $f(x)$. Solve for $x^*$ which maximizes $f(x)$ and perform a Taylor expansion to second order, leading to $p(x) = \\exp[-\\frac{1}{2\\sigma^2}(x - x^*)^2]$ (we aren't worried about the normalization in front of the exponent). What are $x^*$ and $\\sigma$? How are they related to the mean and variance of the binomial distribution that we started with? This relation turns out to be a general one, applying to other distributions as well as the binomial distribution.<br />\n",
    "<br />\n",
    "Begin by taking derivative of $f(x)$:\n",
    "<br />\n",
    "$\\frac{df(x)}{dx} = \\frac{d}{dx}\\left(x\\ln\\left(1-x\\right) - \\ln\\left(1-x\\right)  - x\\ln\\left(x\\right) + x\\ln\\left(\\mu\\right) + \\ln\\left(1-\\mu\\right) - x\\ln\\left(1 - \\mu\\right)\\right)$<br />\n",
    "<br />\n",
    "$\\frac{df(x)}{dx} = \\ln\\left(1-x\\right) - \\frac{x}{1-x} + \\frac{1}{1-x} - \\ln\\left(x\\right) - 1 + \\ln\\left(\\mu\\right) - \\ln\\left(1 - \\mu\\right)$<br />\n",
    "<br />\n",
    "$\\frac{df(x)}{dx} = \\ln\\left(1-x\\right) - \\ln\\left(x\\right) + \\ln\\left(\\mu\\right) - \\ln\\left(1 - \\mu\\right)$<br />\n",
    "<br />\n",
    "Set equal to zero to find $x^{*}$:\n",
    "<br />\n",
    "$0 = \\exp\\left(\\ln\\left(1-x^{*}\\right) - \\ln\\left(x^{*}\\right) + \\ln\\left(\\mu\\right) - \\ln\\left(1 - \\mu\\right)\\right)$<br />\n",
    "<br />\n",
    "$0 = \\frac{\\left(1-x^{*}\\right)}{x^{*}}\\frac{\\mu}{1 - \\mu} \\Rightarrow x^{*}\\left(1 - \\mu\\right) = \\mu\\left(1 - x\\right)$<br />\n",
    "<br />\n",
    "$x^{*} - \\mu x^{*} = \\mu - \\mu x^{*} \\Rightarrow x^{*} = \\mu$<br />\n",
    "<br />\n",
    "For taylor expansion of $f(x)$ around $x^{*}$ we need the second derivative of $f(x)$:<br />\n",
    "<br />\n",
    "$\\frac{d}{dx}\\left(\\frac{df(x)}{dx}\\right) = \\frac{d}{dx}\\left(\\ln\\left(1-x\\right) - \\ln\\left(x\\right) + \\ln\\left(\\mu\\right) - \\ln\\left(1 - \\mu\\right)\\right)$<br />\n",
    "<br />\n",
    "$\\frac{d^{2}f(x)}{dx^{2}} = \\frac{-1}{1 - x} - \\frac{1}{x} = \\frac{-1}{1 - x}\\frac{x}{x} - \\frac{1}{x}\\frac{1 - x}{1 - x} = \\frac{-1}{x - x^{2}}$<br />\n",
    "<br />\n",
    "Taylor's expansion: $f(x^{*}) + \\frac{{f}'(x^{*})}{1!} + \\frac{{f}''(x^{*})}{2!}\\left(x - x^{*}\\right)^{2}$<br />\n",
    "<br />\n",
    "$f(x^{*}) = f(\\mu) = \\mu\\ln(1 - \\mu) - \\ln(1 - \\mu) - \\mu\\ln(\\mu) + \\mu\\ln(\\mu) + ln(1 - \\mu) - \\mu\\ln(1 - \\mu) = 0$<br />\n",
    "<br />\n",
    "${f}'(x^{*}) = {f}'(\\mu) = \\ln(1 - \\mu) - \\ln(\\mu) + \\ln(\\mu) - \\ln(1 - \\mu) = 0$<br />\n",
    "<br />\n",
    "${f}''(x^{*}) = {f}''(\\mu) = \\frac{-1}{\\mu - \\mu^{2}} = \\frac{-1}{\\sigma^{2}}$<br />\n",
    "<br />\n",
    "Filling in the Taylor's expansion terms: $\\frac{-1}{2\\sigma^{2}}\\left(x - x^{*}\\right)^{2}$<br />\n",
    "<br />\n",
    "Plugging in to $p(x)$:<br />\n",
    "<br />\n",
    "$p(x) = \\exp[-\\frac{1}{2\\sigma^2}(x - x^*)^2]$<br />\n",
    "<br />\n",
    "$x^{*} = \\mu$<br />\n",
    "$\\sigma^{2} = \\mu - \\mu^{2}$"
   ]
  },
  {
   "cell_type": "markdown",
   "metadata": {},
   "source": [
    "# Coding exercises\n",
    "\n",
    "In the exercises that follow, we will use simulated data to check the predictions of the Central Limit Theorem.\n",
    "\n",
    "Reminder: Once your notebook is complete, you should restart the kernel, run all of the cells in order, and make sure that no errors occur. Notebooks that run successfully without errors will be awarded one extra credit point."
   ]
  },
  {
   "cell_type": "code",
   "execution_count": 1,
   "metadata": {},
   "outputs": [],
   "source": [
    "import numpy as np\n",
    "import matplotlib.pyplot as plt"
   ]
  },
  {
   "cell_type": "markdown",
   "metadata": {},
   "source": [
    "**Exercise 1** (3 points): Let $\\{m_1, m_2, \\ldots, m_M\\}$ be random variables drawn from the binomial distribution $\\mathrm{Bin}(m | N, \\mu)$, and let $x_i = m_i/N$. Plot two histograms of the distributions of $m_i$: one with $N=20$ and another with $N=10,000$. In both plots, use $M = 10,000$ and $\\mu = 0.8$. The function `np.random.binomial()` may be useful. Give each plot appropriate axes labels and title. Describe how the two distributions appear to differ."
   ]
  },
  {
   "cell_type": "code",
   "execution_count": 2,
   "metadata": {},
   "outputs": [
    {
     "data": {
      "text/plain": [
       "Text(0.5, 1.0, 'Binomial Distribution, N = 10000')"
      ]
     },
     "execution_count": 2,
     "metadata": {},
     "output_type": "execute_result"
    },
    {
     "data": {
      "image/png": "[encoded data removed]",
      "text/plain": [
       "<Figure size 864x576 with 2 Axes>"
      ]
     },
     "metadata": {
      "needs_background": "light"
     },
     "output_type": "display_data"
    }
   ],
   "source": [
    "## Solution ##\n",
    "m = 10000#number of samples to draw\n",
    "mu = 0.8#probability of binary variable equalling 1\n",
    "\n",
    "#number of sampling iterations of m samples\n",
    "N1 = 20\n",
    "N2 = 10000\n",
    "\n",
    "out1 = np.random.binomial(N1, mu, size=m)/N1\n",
    "out2 = np.random.binomial(N2, mu, size=m)/N2\n",
    "\n",
    "fig, (ax1, ax2) = plt.subplots(1,2, figsize=(12,8))\n",
    "mu = np.mean(out1)\n",
    "median = np.median(out1)\n",
    "sigma = np.std(out1)\n",
    "textstr = '\\n'.join((\n",
    "    r'$\\mu=%.2f$' % (mu, ),\n",
    "    r'$\\mathrm{median}=%.2f$' % (median, ),\n",
    "    r'$\\sigma=%.2f$' % (sigma, )))\n",
    "ax1.hist(out1, bins='sturges')\n",
    "# these are matplotlib.patch.Patch properties\n",
    "props = dict(boxstyle='round', facecolor='wheat', alpha=0.5)\n",
    "\n",
    "# place a text box in upper left in axes coords\n",
    "ax1.text(0.05, 0.95, textstr, transform=ax1.transAxes, fontsize=14,\n",
    "        verticalalignment='top', bbox=props)\n",
    "ax1.set_title('Binomial Distribution, N = 20')\n",
    "#ax1.set_xlim((7800, 8200))\n",
    "\n",
    "mu = np.mean(out2)\n",
    "median = np.median(out2)\n",
    "sigma = np.std(out2)\n",
    "textstr = '\\n'.join((\n",
    "    r'$\\mu=%.2f$' % (mu, ),\n",
    "    r'$\\mathrm{median}=%.2f$' % (median, ),\n",
    "    r'$\\sigma=%.2f$' % (sigma, )))\n",
    "ax2.hist(out2, bins='sturges')\n",
    "# these are matplotlib.patch.Patch properties\n",
    "props = dict(boxstyle='round', facecolor='wheat', alpha=0.5)\n",
    "\n",
    "# place a text box in upper left in axes coords\n",
    "ax2.text(0.05, 0.95, textstr, transform=ax2.transAxes, fontsize=14,\n",
    "        verticalalignment='top', bbox=props)\n",
    "ax2.set_title('Binomial Distribution, N = 10000')\n",
    "#ax2.set_xlim((7800, 8200))"
   ]
  },
  {
   "cell_type": "markdown",
   "metadata": {},
   "source": [
    "**Exercise 2** (3 points): Create a function `f(M, N, mu)` that takes $M$, $N$, and $\\mu$ (as defined in the previous exercise) as inputs and returns the variance of the distribution of $M$ random variables $x_i \\sim \\text{Bin}(N,\\mu)$ (i.e. the distribution plotted in the previous exercise). Plot this variance on a log-log plot for various values of `N`, with `M=10000` and `mu=0.8`. In the same figure, also plot the result you obtained for the variance in the mathematical exercises on the Central Limit Theorem above."
   ]
  },
  {
   "cell_type": "code",
   "execution_count": 4,
   "metadata": {},
   "outputs": [
    {
     "data": {
      "text/plain": [
       "<matplotlib.legend.Legend at 0x7fba1d889100>"
      ]
     },
     "execution_count": 4,
     "metadata": {},
     "output_type": "execute_result"
    },
    {
     "data": {
      "image/png": "[encoded data removed]",
      "text/plain": [
       "<Figure size 864x576 with 1 Axes>"
      ]
     },
     "metadata": {
      "needs_background": "light"
     },
     "output_type": "display_data"
    }
   ],
   "source": [
    "## Solution ##\n",
    "u = 0.8\n",
    "m = 10000\n",
    "\n",
    "def f(M, N, mu):\n",
    "    out = np.random.binomial(N, mu, size=M)/N\n",
    "    var = np.var(out)\n",
    "    return var\n",
    "\n",
    "ns = np.arange(10, 100000, 100)\n",
    "var_list = []\n",
    "clt_var_vals = []\n",
    "for n in ns:\n",
    "    var = f(m, n, mu)\n",
    "    var_list.append(var)\n",
    "    \n",
    "    #central limit theorem variance\n",
    "    clt_var = n*u - n*u**2\n",
    "    clt_var_vals.append(clt_var)\n",
    "\n",
    "\n",
    "# Creating figure and axes\n",
    "fig, ax = plt.subplots(figsize=(12, 8))\n",
    "# Plotting the graph with Log ticks at x and y axis using loglog\n",
    "ax.loglog(ns, var_list, 'r', linewidth=2, label = 'Calculated Binomial Dist Var')\n",
    "ax.loglog(ns, clt_var_vals, 'b--', linewidth=2, label='Central Limit Theoreom Var')\n",
    "ax.set_title('Variance vs N loglog plot', fontsize=15)\n",
    "ax.set_xlabel('log(N)', fontsize=13)\n",
    "ax.set_ylabel('log(var)', fontsize=13)\n",
    "ax.legend()"
   ]
  },
  {
   "cell_type": "code",
   "execution_count": null,
   "metadata": {},
   "outputs": [],
   "source": []
  }
 ],
 "metadata": {
  "kernelspec": {
   "display_name": "Python 3",
   "language": "python",
   "name": "python3"
  },
  "language_info": {
   "codemirror_mode": {
    "name": "ipython",
    "version": 3
   },
   "file_extension": ".py",
   "mimetype": "text/x-python",
   "name": "python",
   "nbconvert_exporter": "python",
   "pygments_lexer": "ipython3",
   "version": "3.8.5"
  }
 },
 "nbformat": 4,
 "nbformat_minor": 4
}
