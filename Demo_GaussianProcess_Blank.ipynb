{
 "cells": [
  {
   "cell_type": "markdown",
   "metadata": {},
   "source": [
    "In this notebook, we'll implement a minimal example of a 1D Gaussian process and apply this approach to regression."
   ]
  },
  {
   "cell_type": "code",
   "execution_count": 1,
   "metadata": {},
   "outputs": [],
   "source": [
    "import matplotlib.pyplot as plt\n",
    "import numpy as np"
   ]
  },
  {
   "cell_type": "code",
   "execution_count": 2,
   "metadata": {},
   "outputs": [],
   "source": [
    "# The kernel, which describes the correlation between y(x1) and y(x2) as a function of |x1-x2|:\n",
    "def k(x1, x2, sig=0.1):\n",
    "    return np.exp(-(x1-x2)**2/(2*sig)**2)"
   ]
  },
  {
   "cell_type": "markdown",
   "metadata": {},
   "source": [
    "**Exercise**: For $N=100$ evenly spaced x values over $(0,1)$, let $\\vec{y}$ be a vector of the corresponding $y$ values such that $p(\\vec{y}) = \\mathcal{N}(\\vec{y} | 0, \\mathbf{K})$. Use the kernel function defined above to create the covariance matrix $\\mathbf{K}$. Use `np.random.multivariate_normal()` to draw and plot a few samples from this distribution."
   ]
  },
  {
   "cell_type": "code",
   "execution_count": 1,
   "metadata": {},
   "outputs": [],
   "source": [
    "## Solution ##\n",
    "\n",
    "# Create the covariance matrix:\n",
    "\n",
    "# Draw some samples (i.e. functions y(x)) from the distribution over y:\n",
    "\n",
    "# Plot the results:\n"
   ]
  },
  {
   "cell_type": "markdown",
   "metadata": {},
   "source": [
    "# Gaussian process regression\n"
   ]
  },
  {
   "cell_type": "code",
   "execution_count": 4,
   "metadata": {},
   "outputs": [
    {
     "data": {
      "text/plain": [
       "[<matplotlib.lines.Line2D at 0x11304ad60>]"
      ]
     },
     "execution_count": 4,
     "metadata": {},
     "output_type": "execute_result"
    },
    {
     "data": {
      "image/png": "[encoded data removed]",
      "text/plain": [
       "<Figure size 432x288 with 1 Axes>"
      ]
     },
     "metadata": {
      "needs_background": "light"
     },
     "output_type": "display_data"
    }
   ],
   "source": [
    "# Make some fake data:\n",
    "noise = 0.05  # aka beta inverse\n",
    "n = 10\n",
    "x = np.random.rand(n)\n",
    "y = np.sin(2*np.pi*x) + noise**0.5*np.random.randn(n)\n",
    "\n",
    "n_array = 100\n",
    "x_array = np.arange(0, 1, 1/n_array)\n",
    "y_true = np.sin(2*np.pi*x_array)\n",
    "\n",
    "# Plot the data together with the function that was used to generate it:\n",
    "plt.plot(x_array, y_true)\n",
    "plt.plot(x, y, 'o')"
   ]
  },
  {
   "cell_type": "markdown",
   "metadata": {},
   "source": [
    "**Exercise**: Using the `n` data points defined above, create the covariance matrix $\\mathbf{C}_N$. Use this to compute $m(\\vec{x}_{N+1})$ and $\\sigma^2(\\vec{x}_{N+1})$ for the distribution of expected $t$ values corresponding to a new data point, i.e. $p(t_{N+1} | \\vec{t}) = \\mathcal{N}(t_{N+1} | m(\\vec{x}_{N+1}), \\sigma^2(\\vec{x}_{N+1}))$. Compute these quantities for each data point in `x_array` defined above, and save the results in 1D arrays `m` and `s2`."
   ]
  },
  {
   "cell_type": "code",
   "execution_count": 5,
   "metadata": {},
   "outputs": [],
   "source": [
    "## Solution ##\n",
    "\n",
    "# Create the covariance matrix and take its inverse:\n",
    "\n",
    "# The means and variances of predicted t values for each x in x_array:\n"
   ]
  },
  {
   "cell_type": "markdown",
   "metadata": {},
   "source": [
    "**Exercise**: Using the quantities just computed, plot the curve that gives the model predictions. The uncertainty of the prediction can be shown as a shaded region using `plt.fill_between()`."
   ]
  },
  {
   "cell_type": "code",
   "execution_count": 2,
   "metadata": {},
   "outputs": [],
   "source": [
    "## Solution ##\n",
    "\n",
    "# Plot the data together with the GP fit:\n"
   ]
  },
  {
   "cell_type": "code",
   "execution_count": null,
   "metadata": {},
   "outputs": [],
   "source": []
  }
 ],
 "metadata": {
  "kernelspec": {
   "display_name": "Python 3 (ipykernel)",
   "language": "python",
   "name": "python3"
  },
  "language_info": {
   "codemirror_mode": {
    "name": "ipython",
    "version": 3
   },
   "file_extension": ".py",
   "mimetype": "text/x-python",
   "name": "python",
   "nbconvert_exporter": "python",
   "pygments_lexer": "ipython3",
   "version": "3.9.5"
  }
 },
 "nbformat": 4,
 "nbformat_minor": 4
}
